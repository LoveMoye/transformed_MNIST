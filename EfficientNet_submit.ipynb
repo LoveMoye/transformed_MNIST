{
 "cells": [
  {
   "cell_type": "markdown",
   "metadata": {},
   "source": [
    "# EfficientNet\n",
    "이 문서는 여러 글을 참고하여 만든 EfficientNet입니다.\n",
    "\n",
    "## 참고\n",
    "Jie Hu, Li Shen, Samuel Albanie, Gang Sun and, Enhua Wu, \"Squeeze-and-Excitaion Networks\",arxiv:1709.01507[https://arxiv.org/abs/1709.01507]\n",
    "towardDataSience :Squeeze-and-Excitation Networks[https://towardsdatascience.com/squeeze-and-excitation-networks-9ef5e71eacd7]\n",
    "Image Classification with EfficientNet: Better performance with computational efficiency[https://medium.com/analytics-vidhya/image-classification-with-efficientnet-better-performance-with-computational-efficiency-f480fdb00ac6]"
   ]
  },
  {
   "cell_type": "code",
   "execution_count": null,
   "metadata": {
    "id": "pH1fVLAKBJny"
   },
   "outputs": [],
   "source": [
    "import collections\n",
    "import math\n",
    "\n",
    "import pandas as pd\n",
    "import numpy as np\n",
    "import matplotlib.pyplot as plt\n",
    "import tensorflow as tf\n",
    "from tensorflow.keras import layers\n",
    "from tensorflow import keras"
   ]
  },
  {
   "cell_type": "code",
   "execution_count": null,
   "metadata": {
    "id": "MxHwVlUqBPfT"
   },
   "outputs": [],
   "source": [
    "train = pd.read_csv('/path/to/train.csv')\n",
    "test = pd.read_csv('/path/to/test.csv')"
   ]
  },
  {
   "cell_type": "code",
   "execution_count": null,
   "metadata": {
    "id": "2Z3kx6wlBSQP"
   },
   "outputs": [],
   "source": [
    "# Data Preprocessing\n",
    "\n",
    "train_img = train.iloc[:,3:].to_numpy().reshape(-1,28,28,1)\n",
    "train_digit = train['digit']\n",
    "train_letter = train['letter']\n",
    "test_img = test.iloc[:,2:].to_numpy().reshape(-1,28,28,1)\n",
    "test_letter = test['letter']"
   ]
  },
  {
   "cell_type": "code",
   "execution_count": null,
   "metadata": {
    "id": "Y2twe4zqBTKJ"
   },
   "outputs": [],
   "source": [
    "train_img_norm = train_img / 255.0\n",
    "test_img_norm = test_img / 255.0"
   ]
  },
  {
   "cell_type": "code",
   "execution_count": null,
   "metadata": {
    "id": "FsFIaN0eBUbC"
   },
   "outputs": [],
   "source": [
    "X_train = train_img_norm\n",
    "y_train = train_digit.to_numpy()\n",
    "\n",
    "X_test = test_img_norm"
   ]
  },
  {
   "cell_type": "code",
   "execution_count": null,
   "metadata": {
    "id": "e9wrdl17BWlD"
   },
   "outputs": [],
   "source": [
    "from sklearn.model_selection import train_test_split\n",
    "\n",
    "X_train_data, X_val_data, y_train_data, y_val_data = train_test_split(X_train, y_train, test_size = 0.2, random_state = 1004)"
   ]
  },
  {
   "cell_type": "code",
   "execution_count": null,
   "metadata": {
    "id": "0M8PcvJWBZGe"
   },
   "outputs": [],
   "source": [
    "def loss_plot(epochs, hist, list_of_metrics):\n",
    "    \n",
    "    fig, ax = plt.subplots(1,2,figsize = (12, 8))\n",
    "    \n",
    "    for i in range(len(ax)):\n",
    "        ax[i].set_xlabel('Epochs')\n",
    "        ax[i].set_ylabel('Value')\n",
    "        \n",
    "        for n in range(len(list_of_metrics)):\n",
    "            if i == 0:\n",
    "                y = hist[list_of_metrics[n]]\n",
    "                ax[i].plot(epochs, y)\n",
    "                ax[i].set_title('Loss')\n",
    "                if n == 1:\n",
    "                    break\n",
    "            else:\n",
    "                if n >= 2:\n",
    "                    y = hist[list_of_metrics[n]]\n",
    "                    ax[i].plot(epochs, y)\n",
    "                    ax[i].set_title('Accuracy')\n",
    "                    \n",
    "    plt.show()"
   ]
  },
  {
   "cell_type": "code",
   "execution_count": null,
   "metadata": {
    "id": "GjL_LnK4BZfI"
   },
   "outputs": [],
   "source": [
    "from nn_block.EfficientNet.EfficientNet_parameters import Global_params, Block_params, CONV_KERNEL_INITIALIZER, DENSE_KERNEL_INITIALIZER\n",
    "\n",
    "global_param = Global_params(dropout_rate=0.2, batch_norm=False, batch_norm_momentum=0.99,\n",
    "                             batch_norm_epsilon=0.001, activation = 'relu')\n",
    "\n",
    "Block_params_list = [\n",
    "    Block_params(channels=128, output_filters=256, kernel_size = 3, strides=1, padding='same',\n",
    "                 expand_ratio=3, se_ratio=0.25,num_repeat=9, block_number=2),\n",
    "    Block_params(channels=256, output_filters=256, kernel_size = 3, strides=1, padding='same',\n",
    "                expand_ratio=3, se_ratio=0.25,num_repeat=9, block_number=3),\n",
    "    Block_params(channels=256, output_filters=256, kernel_size = 3, strides=1, padding='same',\n",
    "                expand_ratio=3, se_ratio=0.25, num_repeat=1, block_number=4)\n",
    "]"
   ]
  },
  {
   "cell_type": "markdown",
   "metadata": {
    "id": "cqjSSY0IBgen"
   },
   "source": [
    "# MBConvBlock\n",
    "- out : return the MBblock with seblocks.\n",
    "\n",
    "# EfficientNet \n",
    "\n",
    "    \n",
    "# **params**\n",
    "- width_coefficient\n",
    "- depth_coefficient\n",
    "- default_resolution\n",
    "- dropout_rate\n",
    "- global_params\n",
    "- block_params_list\n",
    "- depth_divisor\n",
    "- classes\n",
    "\n",
    "# Function\n",
    "- round_filters\n",
    "- round_repeats"
   ]
  },
  {
   "cell_type": "code",
   "execution_count": null,
   "metadata": {
    "id": "tyB79jlKBdGa"
   },
   "outputs": [],
   "source": [
    "from nn_block.EfficientNet.EfficientNet_utils import round_filters, round_repeats\n",
    "from nn_block.EfficientNet.EfficientNet_Block import MBConvBlock"
   ]
  },
  {
   "cell_type": "code",
   "execution_count": null,
   "metadata": {
    "id": "GMK4hFK6Byik"
   },
   "outputs": [],
   "source": [
    "def EfficientNet(width_coefficient,\n",
    "                 depth_coefficient,\n",
    "                 default_resolution,\n",
    "                 dropout_rate,\n",
    "                 global_params,\n",
    "                 block_params_list,\n",
    "                 depth_divisor=8,\n",
    "                 classes=10,\n",
    "                 ):\n",
    "\n",
    "    input = layers.Input(shape=(default_resolution, default_resolution, 1))\n",
    "    x = layers.Conv2D(128,\n",
    "                      kernel_size=(3, 3),\n",
    "                      strides=1,\n",
    "                      padding='same',\n",
    "                      kernel_initializer=CONV_KERNEL_INITIALIZER,\n",
    "                      name = 'conv1')(input)\n",
    "    if global_params.batch_norm:\n",
    "        x = layers.BatchNormalization(momentum=global_params.batch_norm_momentum,\n",
    "                                      epsilon=global_params.batch_norm_epsilon,\n",
    "                                      name = 'batch_normalization1'\n",
    "                                      )(x)\n",
    "    x = layers.Activation(global_params.activation, name = 'activation1')(x)\n",
    "\n",
    "    for i in range(len(block_params_list)):\n",
    "        args = block_params_list[i]\n",
    "        args = args._replace(channels=round_filters(args.channels, width_coefficient, depth_divisor),\n",
    "                             output_filters=round_filters(args.output_filters, width_coefficient, depth_divisor),\n",
    "                             num_repeat=round_repeats(args.num_repeat, depth_coefficient))\n",
    "\n",
    "        x = MBConvBlock(global_params, args).out(x)\n",
    "        x = layers.MaxPool2D((2, 2), 2, name = 'pool{}'.format(i))(x)\n",
    "\n",
    "    # FC layers\n",
    "    img_features = layers.Flatten()(x)\n",
    "    img_features = layers.Dense(512, kernel_initializer=DENSE_KERNEL_INITIALIZER, name='fc_1')(img_features)\n",
    "    img_features = layers.Activation('relu', name='fc_activation_1')(img_features)\n",
    "    img_features = layers.Dropout(rate=dropout_rate, name='fc_dropout_1')(img_features)\n",
    "    img_features = layers.Dense(512, kernel_initializer=DENSE_KERNEL_INITIALIZER, name='fc_2')(img_features)\n",
    "    img_features = layers.Activation('relu', name='fc_activation_2')(img_features)\n",
    "    img_features = layers.Dropout(rate=dropout_rate, name='fc_dropout_2')(img_features)\n",
    "    predictions = layers.Dense(classes,\n",
    "                               activation='softmax',\n",
    "                               kernel_initializer=DENSE_KERNEL_INITIALIZER,\n",
    "                               name = 'prediction')(img_features)\n",
    "\n",
    "    model = tf.keras.Model(inputs=input, outputs=predictions)\n",
    "\n",
    "    return model"
   ]
  },
  {
   "cell_type": "markdown",
   "metadata": {
    "id": "2ydvkQ5qDDtD"
   },
   "source": [
    "# Training Function"
   ]
  },
  {
   "cell_type": "code",
   "execution_count": null,
   "metadata": {
    "id": "kNsme1OCDC8P"
   },
   "outputs": [],
   "source": [
    "def train_model(model, X_train, y_train, X_val, y_val ,epochs, batch_size = None):\n",
    "      \n",
    "    callback = tf.keras.callbacks.EarlyStopping(monitor = 'val_accuracy', patience = 20, restore_best_weights = True)\n",
    "    \n",
    "    history = model.fit(x = X_train, y = y_train, epochs = epochs, batch_size = batch_size,\n",
    "                       shuffle = True, validation_data = (X_val, y_val), callbacks = [callback])\n",
    "    \n",
    "    epochs = history.epoch\n",
    "    hist = pd.DataFrame(history.history)\n",
    "    \n",
    "    return epochs, hist"
   ]
  },
  {
   "cell_type": "markdown",
   "metadata": {
    "id": "38QCSkGNDJnc"
   },
   "source": [
    "# Model Training"
   ]
  },
  {
   "cell_type": "code",
   "execution_count": null,
   "metadata": {
    "colab": {
     "base_uri": "https://localhost:8080/"
    },
    "id": "FANcb55zDmvs",
    "outputId": "a99134d8-b99e-43e1-d386-2bb78639a2b5"
   },
   "outputs": [],
   "source": [
    "width_coefficient = 1.0\n",
    "depth_coefficient = 1.0\n",
    "default_resolution = 28\n",
    "dropout_rate = 0.4\n",
    "learning_rate = 0.00001\n",
    "\n",
    "EfficientNet = EfficientNet(width_coefficient,\n",
    "                              depth_coefficient,\n",
    "                              default_resolution,\n",
    "                              dropout_rate,\n",
    "                              global_param,\n",
    "                              Block_params_list)\n",
    "EfficientNet.compile(optimizer = tf.keras.optimizers.Adam(lr = learning_rate),\n",
    "                       loss = 'sparse_categorical_crossentropy',\n",
    "                       metrics = ['accuracy'])\n",
    "EfficientNet.summary()"
   ]
  },
  {
   "cell_type": "code",
   "execution_count": null,
   "metadata": {
    "colab": {
     "base_uri": "https://localhost:8080/",
     "height": 1000
    },
    "id": "eXKpzp1eERqO",
    "outputId": "9b5d8bb9-7386-41ad-fa8e-26a0ab675c77"
   },
   "outputs": [],
   "source": [
    "## Model Test용\n",
    "batch_size = 1\n",
    "epochs = 200\n",
    "\n",
    "epoch, hist = train_model(EfficientNet_1, X_train_data, y_train_data, X_val_data, y_val_data, epochs, batch_size)\n",
    "\n",
    "list_of_metrics_to_plot = ['loss','val_loss','accuracy','val_accuracy']\n",
    "loss_plot(epoch, hist, list_of_metrics_to_plot)"
   ]
  }
 ],
 "metadata": {
  "accelerator": "GPU",
  "colab": {
   "name": "EfficientNet2.ipynb의 사본",
   "provenance": [],
   "toc_visible": true
  },
  "kernelspec": {
   "display_name": "Python 3",
   "language": "python",
   "name": "python3"
  },
  "language_info": {
   "codemirror_mode": {
    "name": "ipython",
    "version": 3
   },
   "file_extension": ".py",
   "mimetype": "text/x-python",
   "name": "python",
   "nbconvert_exporter": "python",
   "pygments_lexer": "ipython3",
   "version": "3.8.5"
  }
 },
 "nbformat": 4,
 "nbformat_minor": 1
}
